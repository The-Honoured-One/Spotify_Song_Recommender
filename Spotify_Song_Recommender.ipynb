{
 "cells": [
  {
   "cell_type": "code",
   "execution_count": 1,
   "id": "66afd94d",
   "metadata": {},
   "outputs": [],
   "source": [
    "import numpy as np\n",
    "import pandas as pd"
   ]
  },
  {
   "cell_type": "code",
   "execution_count": 29,
   "id": "635dd45f",
   "metadata": {},
   "outputs": [],
   "source": [
    "df = pd.DataFrame({\"index\" : list(range(0,57650))})\n",
    "df = pd.concat([df, pd.read_csv(\"Spotify_dataset.csv\")], axis = \"columns\")\n",
    "df.head()\n",
    "df = df[df[\"index\"] < 10000]"
   ]
  },
  {
   "cell_type": "code",
   "execution_count": 30,
   "id": "35d9fae7",
   "metadata": {},
   "outputs": [
    {
     "data": {
      "text/plain": [
       "(10000, 5)"
      ]
     },
     "execution_count": 30,
     "metadata": {},
     "output_type": "execute_result"
    }
   ],
   "source": [
    "df.shape"
   ]
  },
  {
   "cell_type": "code",
   "execution_count": 31,
   "id": "cbf8d026",
   "metadata": {},
   "outputs": [
    {
     "data": {
      "text/plain": [
       "index     0\n",
       "artist    0\n",
       "song      0\n",
       "link      0\n",
       "text      0\n",
       "dtype: int64"
      ]
     },
     "execution_count": 31,
     "metadata": {},
     "output_type": "execute_result"
    }
   ],
   "source": [
    "df.isnull().sum()"
   ]
  },
  {
   "cell_type": "code",
   "execution_count": 32,
   "id": "bd9d5ce5",
   "metadata": {},
   "outputs": [],
   "source": [
    "import nltk\n",
    "from nltk.corpus import stopwords"
   ]
  },
  {
   "cell_type": "code",
   "execution_count": 33,
   "id": "194fe5c8",
   "metadata": {},
   "outputs": [],
   "source": [
    "def remove_stopwords(text):\n",
    "    stop = stopwords.words(\"english\")\n",
    "    res = \"\"\n",
    "    for i in text.split():\n",
    "        i = i.lower()\n",
    "        if i not in stop:\n",
    "            res += i + \" \"\n",
    "    res.rstrip()\n",
    "    return res"
   ]
  },
  {
   "cell_type": "code",
   "execution_count": 34,
   "id": "29b20770",
   "metadata": {
    "scrolled": true
   },
   "outputs": [],
   "source": [
    "df[\"text\"] = df[\"text\"].apply(remove_stopwords)"
   ]
  },
  {
   "cell_type": "code",
   "execution_count": 35,
   "id": "1f4ec948",
   "metadata": {},
   "outputs": [],
   "source": [
    "df[\"artist\"] = df[\"artist\"].apply(lambda x: \"\".join(x.split()))"
   ]
  },
  {
   "cell_type": "code",
   "execution_count": 36,
   "id": "ffdb9d04",
   "metadata": {},
   "outputs": [],
   "source": [
    "df[\"tags\"] = df[\"artist\"] + df[\"text\"]"
   ]
  },
  {
   "cell_type": "code",
   "execution_count": 37,
   "id": "4ade6f78",
   "metadata": {},
   "outputs": [
    {
     "data": {
      "text/html": [
       "<div>\n",
       "<style scoped>\n",
       "    .dataframe tbody tr th:only-of-type {\n",
       "        vertical-align: middle;\n",
       "    }\n",
       "\n",
       "    .dataframe tbody tr th {\n",
       "        vertical-align: top;\n",
       "    }\n",
       "\n",
       "    .dataframe thead th {\n",
       "        text-align: right;\n",
       "    }\n",
       "</style>\n",
       "<table border=\"1\" class=\"dataframe\">\n",
       "  <thead>\n",
       "    <tr style=\"text-align: right;\">\n",
       "      <th></th>\n",
       "      <th>index</th>\n",
       "      <th>artist</th>\n",
       "      <th>song</th>\n",
       "      <th>link</th>\n",
       "      <th>text</th>\n",
       "      <th>tags</th>\n",
       "    </tr>\n",
       "  </thead>\n",
       "  <tbody>\n",
       "    <tr>\n",
       "      <th>0</th>\n",
       "      <td>0</td>\n",
       "      <td>ABBA</td>\n",
       "      <td>Ahe's My Kind Of Girl</td>\n",
       "      <td>/a/abba/ahes+my+kind+of+girl_20598417.html</td>\n",
       "      <td>look face, wonderful face means something spec...</td>\n",
       "      <td>ABBAlook face, wonderful face means something ...</td>\n",
       "    </tr>\n",
       "    <tr>\n",
       "      <th>1</th>\n",
       "      <td>1</td>\n",
       "      <td>ABBA</td>\n",
       "      <td>Andante, Andante</td>\n",
       "      <td>/a/abba/andante+andante_20002708.html</td>\n",
       "      <td>take easy me, please touch gently like summer ...</td>\n",
       "      <td>ABBAtake easy me, please touch gently like sum...</td>\n",
       "    </tr>\n",
       "    <tr>\n",
       "      <th>2</th>\n",
       "      <td>2</td>\n",
       "      <td>ABBA</td>\n",
       "      <td>As Good As New</td>\n",
       "      <td>/a/abba/as+good+as+new_20003033.html</td>\n",
       "      <td>i'll never know go put lousy rotten show boy, ...</td>\n",
       "      <td>ABBAi'll never know go put lousy rotten show b...</td>\n",
       "    </tr>\n",
       "    <tr>\n",
       "      <th>3</th>\n",
       "      <td>3</td>\n",
       "      <td>ABBA</td>\n",
       "      <td>Bang</td>\n",
       "      <td>/a/abba/bang_20598415.html</td>\n",
       "      <td>making somebody happy question give take learn...</td>\n",
       "      <td>ABBAmaking somebody happy question give take l...</td>\n",
       "    </tr>\n",
       "    <tr>\n",
       "      <th>4</th>\n",
       "      <td>4</td>\n",
       "      <td>ABBA</td>\n",
       "      <td>Bang-A-Boomerang</td>\n",
       "      <td>/a/abba/bang+a+boomerang_20002668.html</td>\n",
       "      <td>making somebody happy question give take learn...</td>\n",
       "      <td>ABBAmaking somebody happy question give take l...</td>\n",
       "    </tr>\n",
       "  </tbody>\n",
       "</table>\n",
       "</div>"
      ],
      "text/plain": [
       "   index artist                   song  \\\n",
       "0      0   ABBA  Ahe's My Kind Of Girl   \n",
       "1      1   ABBA       Andante, Andante   \n",
       "2      2   ABBA         As Good As New   \n",
       "3      3   ABBA                   Bang   \n",
       "4      4   ABBA       Bang-A-Boomerang   \n",
       "\n",
       "                                         link  \\\n",
       "0  /a/abba/ahes+my+kind+of+girl_20598417.html   \n",
       "1       /a/abba/andante+andante_20002708.html   \n",
       "2        /a/abba/as+good+as+new_20003033.html   \n",
       "3                  /a/abba/bang_20598415.html   \n",
       "4      /a/abba/bang+a+boomerang_20002668.html   \n",
       "\n",
       "                                                text  \\\n",
       "0  look face, wonderful face means something spec...   \n",
       "1  take easy me, please touch gently like summer ...   \n",
       "2  i'll never know go put lousy rotten show boy, ...   \n",
       "3  making somebody happy question give take learn...   \n",
       "4  making somebody happy question give take learn...   \n",
       "\n",
       "                                                tags  \n",
       "0  ABBAlook face, wonderful face means something ...  \n",
       "1  ABBAtake easy me, please touch gently like sum...  \n",
       "2  ABBAi'll never know go put lousy rotten show b...  \n",
       "3  ABBAmaking somebody happy question give take l...  \n",
       "4  ABBAmaking somebody happy question give take l...  "
      ]
     },
     "execution_count": 37,
     "metadata": {},
     "output_type": "execute_result"
    }
   ],
   "source": [
    "df.head()"
   ]
  },
  {
   "cell_type": "code",
   "execution_count": 38,
   "id": "76afaf2c",
   "metadata": {},
   "outputs": [
    {
     "data": {
      "text/html": [
       "<div>\n",
       "<style scoped>\n",
       "    .dataframe tbody tr th:only-of-type {\n",
       "        vertical-align: middle;\n",
       "    }\n",
       "\n",
       "    .dataframe tbody tr th {\n",
       "        vertical-align: top;\n",
       "    }\n",
       "\n",
       "    .dataframe thead th {\n",
       "        text-align: right;\n",
       "    }\n",
       "</style>\n",
       "<table border=\"1\" class=\"dataframe\">\n",
       "  <thead>\n",
       "    <tr style=\"text-align: right;\">\n",
       "      <th></th>\n",
       "      <th>index</th>\n",
       "      <th>artist</th>\n",
       "      <th>song</th>\n",
       "      <th>link</th>\n",
       "      <th>tags</th>\n",
       "    </tr>\n",
       "  </thead>\n",
       "  <tbody>\n",
       "    <tr>\n",
       "      <th>0</th>\n",
       "      <td>0</td>\n",
       "      <td>ABBA</td>\n",
       "      <td>Ahe's My Kind Of Girl</td>\n",
       "      <td>/a/abba/ahes+my+kind+of+girl_20598417.html</td>\n",
       "      <td>ABBAlook face, wonderful face means something ...</td>\n",
       "    </tr>\n",
       "    <tr>\n",
       "      <th>1</th>\n",
       "      <td>1</td>\n",
       "      <td>ABBA</td>\n",
       "      <td>Andante, Andante</td>\n",
       "      <td>/a/abba/andante+andante_20002708.html</td>\n",
       "      <td>ABBAtake easy me, please touch gently like sum...</td>\n",
       "    </tr>\n",
       "    <tr>\n",
       "      <th>2</th>\n",
       "      <td>2</td>\n",
       "      <td>ABBA</td>\n",
       "      <td>As Good As New</td>\n",
       "      <td>/a/abba/as+good+as+new_20003033.html</td>\n",
       "      <td>ABBAi'll never know go put lousy rotten show b...</td>\n",
       "    </tr>\n",
       "    <tr>\n",
       "      <th>3</th>\n",
       "      <td>3</td>\n",
       "      <td>ABBA</td>\n",
       "      <td>Bang</td>\n",
       "      <td>/a/abba/bang_20598415.html</td>\n",
       "      <td>ABBAmaking somebody happy question give take l...</td>\n",
       "    </tr>\n",
       "    <tr>\n",
       "      <th>4</th>\n",
       "      <td>4</td>\n",
       "      <td>ABBA</td>\n",
       "      <td>Bang-A-Boomerang</td>\n",
       "      <td>/a/abba/bang+a+boomerang_20002668.html</td>\n",
       "      <td>ABBAmaking somebody happy question give take l...</td>\n",
       "    </tr>\n",
       "    <tr>\n",
       "      <th>...</th>\n",
       "      <td>...</td>\n",
       "      <td>...</td>\n",
       "      <td>...</td>\n",
       "      <td>...</td>\n",
       "      <td>...</td>\n",
       "    </tr>\n",
       "    <tr>\n",
       "      <th>9995</th>\n",
       "      <td>9995</td>\n",
       "      <td>JustinBieber</td>\n",
       "      <td>All Bad</td>\n",
       "      <td>/j/justin+bieber/all+bad_21071754.html</td>\n",
       "      <td>JustinBieber[verse:] another, ain't one thing ...</td>\n",
       "    </tr>\n",
       "    <tr>\n",
       "      <th>9996</th>\n",
       "      <td>9996</td>\n",
       "      <td>JustinBieber</td>\n",
       "      <td>All I Want Is You</td>\n",
       "      <td>/j/justin+bieber/all+i+want+is+you_20985618.html</td>\n",
       "      <td>JustinBiebersitting alone watching snow fall l...</td>\n",
       "    </tr>\n",
       "    <tr>\n",
       "      <th>9997</th>\n",
       "      <td>9997</td>\n",
       "      <td>JustinBieber</td>\n",
       "      <td>As Long As You Love Me</td>\n",
       "      <td>/j/justin+bieber/as+long+as+you+love+me_210218...</td>\n",
       "      <td>JustinBieberlong love (love me, love me) long ...</td>\n",
       "    </tr>\n",
       "    <tr>\n",
       "      <th>9998</th>\n",
       "      <td>9998</td>\n",
       "      <td>JustinBieber</td>\n",
       "      <td>Baby Lady</td>\n",
       "      <td>/j/justin+bieber/baby+lady_20467491.html</td>\n",
       "      <td>JustinBieberput outfit gap like that. one matc...</td>\n",
       "    </tr>\n",
       "    <tr>\n",
       "      <th>9999</th>\n",
       "      <td>9999</td>\n",
       "      <td>JustinBieber</td>\n",
       "      <td>Beauty And A Beat</td>\n",
       "      <td>/j/justin+bieber/beauty+and+a+beat_21019768.html</td>\n",
       "      <td>JustinBieberyoung money, nicki minaj, justin s...</td>\n",
       "    </tr>\n",
       "  </tbody>\n",
       "</table>\n",
       "<p>10000 rows × 5 columns</p>\n",
       "</div>"
      ],
      "text/plain": [
       "      index        artist                    song  \\\n",
       "0         0          ABBA   Ahe's My Kind Of Girl   \n",
       "1         1          ABBA        Andante, Andante   \n",
       "2         2          ABBA          As Good As New   \n",
       "3         3          ABBA                    Bang   \n",
       "4         4          ABBA        Bang-A-Boomerang   \n",
       "...     ...           ...                     ...   \n",
       "9995   9995  JustinBieber                 All Bad   \n",
       "9996   9996  JustinBieber       All I Want Is You   \n",
       "9997   9997  JustinBieber  As Long As You Love Me   \n",
       "9998   9998  JustinBieber               Baby Lady   \n",
       "9999   9999  JustinBieber       Beauty And A Beat   \n",
       "\n",
       "                                                   link  \\\n",
       "0            /a/abba/ahes+my+kind+of+girl_20598417.html   \n",
       "1                 /a/abba/andante+andante_20002708.html   \n",
       "2                  /a/abba/as+good+as+new_20003033.html   \n",
       "3                            /a/abba/bang_20598415.html   \n",
       "4                /a/abba/bang+a+boomerang_20002668.html   \n",
       "...                                                 ...   \n",
       "9995             /j/justin+bieber/all+bad_21071754.html   \n",
       "9996   /j/justin+bieber/all+i+want+is+you_20985618.html   \n",
       "9997  /j/justin+bieber/as+long+as+you+love+me_210218...   \n",
       "9998           /j/justin+bieber/baby+lady_20467491.html   \n",
       "9999   /j/justin+bieber/beauty+and+a+beat_21019768.html   \n",
       "\n",
       "                                                   tags  \n",
       "0     ABBAlook face, wonderful face means something ...  \n",
       "1     ABBAtake easy me, please touch gently like sum...  \n",
       "2     ABBAi'll never know go put lousy rotten show b...  \n",
       "3     ABBAmaking somebody happy question give take l...  \n",
       "4     ABBAmaking somebody happy question give take l...  \n",
       "...                                                 ...  \n",
       "9995  JustinBieber[verse:] another, ain't one thing ...  \n",
       "9996  JustinBiebersitting alone watching snow fall l...  \n",
       "9997  JustinBieberlong love (love me, love me) long ...  \n",
       "9998  JustinBieberput outfit gap like that. one matc...  \n",
       "9999  JustinBieberyoung money, nicki minaj, justin s...  \n",
       "\n",
       "[10000 rows x 5 columns]"
      ]
     },
     "execution_count": 38,
     "metadata": {},
     "output_type": "execute_result"
    }
   ],
   "source": [
    "df.drop(columns = ['text'])"
   ]
  },
  {
   "cell_type": "code",
   "execution_count": 39,
   "id": "cfb469e1",
   "metadata": {},
   "outputs": [],
   "source": [
    "from sklearn.feature_extraction.text import CountVectorizer\n",
    "cv = CountVectorizer(max_features=500,stop_words='english')"
   ]
  },
  {
   "cell_type": "code",
   "execution_count": 40,
   "id": "a6626cc0",
   "metadata": {},
   "outputs": [],
   "source": [
    "def remove_chorus(text):\n",
    "    res = \"\"\n",
    "    elements = [\"chorus\", \"[chorus]\", \"verse\", \"[verse]\", \"x\", \"2\", \"3\"]\n",
    "    for i in text.split():\n",
    "        if i not in elements:\n",
    "            res += i + \" \"\n",
    "    res.rstrip()\n",
    "    return res"
   ]
  },
  {
   "cell_type": "code",
   "execution_count": 41,
   "id": "1f561601",
   "metadata": {},
   "outputs": [],
   "source": [
    "df[\"tags\"] = df[\"tags\"].apply(remove_chorus)"
   ]
  },
  {
   "cell_type": "code",
   "execution_count": 42,
   "id": "1da817ff",
   "metadata": {},
   "outputs": [],
   "source": [
    "vector = cv.fit_transform(df['tags']).toarray()"
   ]
  },
  {
   "cell_type": "code",
   "execution_count": 43,
   "id": "64692f97",
   "metadata": {},
   "outputs": [
    {
     "data": {
      "text/plain": [
       "(10000, 500)"
      ]
     },
     "execution_count": 43,
     "metadata": {},
     "output_type": "execute_result"
    }
   ],
   "source": [
    "vector.shape"
   ]
  },
  {
   "cell_type": "code",
   "execution_count": 44,
   "id": "29973bc7",
   "metadata": {},
   "outputs": [],
   "source": [
    "from sklearn.metrics.pairwise import cosine_similarity"
   ]
  },
  {
   "cell_type": "code",
   "execution_count": 45,
   "id": "ca91450c",
   "metadata": {},
   "outputs": [],
   "source": [
    "similarity = cosine_similarity(vector)"
   ]
  },
  {
   "cell_type": "code",
   "execution_count": 46,
   "id": "59c3bbde",
   "metadata": {},
   "outputs": [
    {
     "data": {
      "text/plain": [
       "array([1.        , 0.        , 0.03947368, ..., 0.10650039, 0.        ,\n",
       "       0.1440976 ])"
      ]
     },
     "execution_count": 46,
     "metadata": {},
     "output_type": "execute_result"
    }
   ],
   "source": [
    "similarity[0]"
   ]
  },
  {
   "cell_type": "code",
   "execution_count": 56,
   "id": "5759d3f1",
   "metadata": {},
   "outputs": [],
   "source": [
    "def recommend(song):\n",
    "    index = list(df[df[\"song\"] == song][\"index\"])[0]\n",
    "    distances = sorted(list(enumerate(similarity[index])),reverse=True,key = lambda x: x[1])\n",
    "    print(\"You may also like :- \")\n",
    "    for i in distances[1:6]:\n",
    "        obj = df.iloc[i[0]]\n",
    "        print(f\"{obj.song} by {obj.artist}\")"
   ]
  },
  {
   "cell_type": "code",
   "execution_count": 57,
   "id": "356ed13a",
   "metadata": {
    "scrolled": true
   },
   "outputs": [
    {
     "name": "stdout",
     "output_type": "stream",
     "text": [
      "You may also like :- \n",
      "Never Make You Cry by EricClapton\n",
      "Tears For You by Judds\n",
      "Leaving On A Jet Plane by JohnDenver\n",
      "Big Ball's In Cowtown by GeorgeStrait\n",
      "My Melancholy Baby by BingCrosby\n"
     ]
    }
   ],
   "source": [
    "recommend(\"Mexicali Rose\")"
   ]
  },
  {
   "cell_type": "code",
   "execution_count": null,
   "id": "e5d5976e",
   "metadata": {},
   "outputs": [],
   "source": []
  }
 ],
 "metadata": {
  "kernelspec": {
   "display_name": "Python 3 (ipykernel)",
   "language": "python",
   "name": "python3"
  },
  "language_info": {
   "codemirror_mode": {
    "name": "ipython",
    "version": 3
   },
   "file_extension": ".py",
   "mimetype": "text/x-python",
   "name": "python",
   "nbconvert_exporter": "python",
   "pygments_lexer": "ipython3",
   "version": "3.11.5"
  }
 },
 "nbformat": 4,
 "nbformat_minor": 5
}
